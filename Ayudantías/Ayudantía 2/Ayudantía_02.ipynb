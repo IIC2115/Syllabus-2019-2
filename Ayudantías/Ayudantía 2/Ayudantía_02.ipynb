{
 "cells": [
  {
   "cell_type": "markdown",
   "metadata": {},
   "source": [
    "# Programación como herramienta para la ingeniería - 2019-2\n",
    "## Profesor: Francisco Garrido (fgv@ing.puc.cl)\n",
    "#### Ayudantes:\n",
    "* José luis Casanova (jlcasanova@uc.cl)\n",
    "* Cristobal Franke (cmfrancke@uc.cl)\n",
    "* Felipe Gómez (fagomez2@uc.cl)\n",
    "* Andrés Jahr (asjahr@uc.cl)\n",
    "* Pablo Seisdedos(pcseisdedos@uc.cl)\n",
    "\n",
    "## Laboratorio 2: Estructuras de datos"
   ]
  },
  {
   "cell_type": "markdown",
   "metadata": {},
   "source": [
    "### Temas a abordar:\n",
    "* Encuesta medio semestre\n",
    "* Notas P01\n",
    "* L02 (descargar)\n",
    "* Formato \n",
    "* Eficiencia\n",
    "* Modelación pregunta 5\n",
    "* Graficar"
   ]
  },
  {
   "cell_type": "markdown",
   "metadata": {},
   "source": [
    "### Lectura de archivos"
   ]
  },
  {
   "cell_type": "markdown",
   "metadata": {},
   "source": [
    "Leemos los datos desde la base de datos"
   ]
  },
  {
   "cell_type": "code",
   "execution_count": 1,
   "metadata": {},
   "outputs": [],
   "source": [
    "def leer_datos(path):\n",
    "    with open(path,\"r\") as archivo:\n",
    "        matriz = [ i.strip(\"\\n\") for i in archivo.readlines()]\n",
    "        return matriz"
   ]
  },
  {
   "cell_type": "markdown",
   "metadata": {},
   "source": [
    "### Modelar redes con POO"
   ]
  },
  {
   "cell_type": "markdown",
   "metadata": {},
   "source": [
    "Definimos la clase nodo para almacenar la información"
   ]
  },
  {
   "cell_type": "code",
   "execution_count": 2,
   "metadata": {},
   "outputs": [],
   "source": [
    "class Nodo:\n",
    "    _id = 0\n",
    "    def __init__(self, posicion):\n",
    "        self._id = Nodo._id \n",
    "        self.posicion = posicion # Tupla (x,y)\n",
    "        self.vecinos = []\n",
    "        Nodo._id += 1\n",
    "        \n",
    "    def add_vecino(self, nodo):\n",
    "        self.vecinos.append(nodo)\n",
    "        \n",
    "    def __str__(self):\n",
    "        return \"Nodo: \" + str(self.posicion) + \" Vecinos: \" + str([nodo.posicion for nodo in self.vecinos])"
   ]
  },
  {
   "cell_type": "markdown",
   "metadata": {},
   "source": [
    "Almacenamos el grafo en una estructura de datos con las características que necesitemos"
   ]
  },
  {
   "cell_type": "code",
   "execution_count": 3,
   "metadata": {},
   "outputs": [],
   "source": [
    "def crear_grafo(matriz):\n",
    "    grafo = dict()\n",
    "    fila = len(matriz)\n",
    "    columna = len(matriz[0])\n",
    "    \n",
    "    for i in range(fila):\n",
    "        for j in range(columna):\n",
    "            if matriz[i][j] == \"O\":\n",
    "                if (i,j) not in grafo.keys():\n",
    "                    nodo = Nodo((i,j))\n",
    "                    grafo.update({(i,j):nodo}) # grafo[(i,j)] = nodo\n",
    "                \n",
    "                for f,c in [(-1,0),(0,-1),(1, 0), (0, 1)]: #Accede arriba, izquierda, abajo, derecha\n",
    "                    if i + f >= 0 and j + c >= 0 and i + f < fila and j + c < columna: # si no estoy en un borde\n",
    "                        if matriz[i+f][j+c] == \"O\":\n",
    "                            if (i+f,j+c) not in grafo.keys():\n",
    "                                vecino = Nodo((i+f,j+c))\n",
    "                                grafo.update({(i+f,j+c):vecino}) # grafo[(i+f,j+c)] = vecino\n",
    "                            else:\n",
    "                                vecino = grafo[(i+f,j+c)]\n",
    "                            grafo[(i,j)].add_vecino(vecino)\n",
    "    return grafo"
   ]
  },
  {
   "cell_type": "markdown",
   "metadata": {},
   "source": [
    "Probamos el código"
   ]
  },
  {
   "cell_type": "code",
   "execution_count": 4,
   "metadata": {},
   "outputs": [],
   "source": [
    "matriz = leer_datos(\"test.txt\")\n",
    "grafo = crear_grafo(matriz)"
   ]
  },
  {
   "cell_type": "code",
   "execution_count": 5,
   "metadata": {},
   "outputs": [
    {
     "name": "stdout",
     "output_type": "stream",
     "text": [
      "Nodo: (0, 0) Vecinos: [(1, 0), (0, 1)]\n",
      "Nodo: (1, 0) Vecinos: [(0, 0), (2, 0), (1, 1)]\n",
      "Nodo: (0, 1) Vecinos: [(0, 0), (1, 1), (0, 2)]\n",
      "Nodo: (1, 1) Vecinos: [(0, 1), (1, 0), (2, 1), (1, 2)]\n",
      "Nodo: (0, 2) Vecinos: [(0, 1), (1, 2), (0, 3)]\n",
      "Nodo: (1, 2) Vecinos: [(0, 2), (1, 1), (2, 2)]\n",
      "Nodo: (0, 3) Vecinos: [(0, 2), (0, 4)]\n",
      "Nodo: (0, 4) Vecinos: [(0, 3), (1, 4), (0, 5)]\n",
      "Nodo: (1, 4) Vecinos: [(0, 4), (2, 4), (1, 5)]\n",
      "Nodo: (0, 5) Vecinos: [(0, 4), (1, 5)]\n",
      "Nodo: (1, 5) Vecinos: [(0, 5), (1, 4), (2, 5)]\n",
      "Nodo: (2, 0) Vecinos: [(1, 0), (3, 0), (2, 1)]\n",
      "Nodo: (2, 1) Vecinos: [(1, 1), (2, 0), (2, 2)]\n",
      "Nodo: (2, 2) Vecinos: [(1, 2), (2, 1)]\n",
      "Nodo: (2, 4) Vecinos: [(1, 4), (2, 5)]\n",
      "Nodo: (2, 5) Vecinos: [(1, 5), (2, 4), (3, 5)]\n",
      "Nodo: (3, 0) Vecinos: [(2, 0), (4, 0)]\n",
      "Nodo: (3, 5) Vecinos: [(2, 5), (4, 5)]\n",
      "Nodo: (4, 0) Vecinos: [(3, 0), (5, 0)]\n",
      "Nodo: (4, 5) Vecinos: [(3, 5), (4, 4), (5, 5)]\n",
      "Nodo: (5, 0) Vecinos: [(4, 0), (5, 1)]\n",
      "Nodo: (4, 2) Vecinos: [(5, 2), (4, 3)]\n",
      "Nodo: (5, 2) Vecinos: [(4, 2), (5, 1), (5, 3)]\n",
      "Nodo: (4, 3) Vecinos: [(4, 2), (5, 3), (4, 4)]\n",
      "Nodo: (5, 3) Vecinos: [(4, 3), (5, 2), (5, 4)]\n",
      "Nodo: (4, 4) Vecinos: [(4, 3), (5, 4), (4, 5)]\n",
      "Nodo: (5, 4) Vecinos: [(4, 4), (5, 3), (5, 5)]\n",
      "Nodo: (5, 5) Vecinos: [(4, 5), (5, 4)]\n",
      "Nodo: (5, 1) Vecinos: [(5, 0), (5, 2)]\n"
     ]
    }
   ],
   "source": [
    "for nodo in grafo.values():\n",
    "    print(nodo)"
   ]
  },
  {
   "cell_type": "markdown",
   "metadata": {},
   "source": [
    "### Graficar"
   ]
  },
  {
   "cell_type": "markdown",
   "metadata": {},
   "source": [
    "La gran mayoría de los ejemplos de más abajo fueron basados en la documentación de la librería NetworkX. Para mayor información no duden en visitar [NetworkX Drawing Documentation](https://networkx.github.io/documentation/stable/reference/drawing.html)."
   ]
  },
  {
   "cell_type": "code",
   "execution_count": 6,
   "metadata": {},
   "outputs": [],
   "source": [
    "import networkx as nx\n",
    "import matplotlib.pyplot as plt\n",
    "\n",
    "def graficar(grafo, tamaño_fuente, tamaño_nodo):\n",
    "    G = nx.DiGraph()\n",
    "    posiciones = dict()\n",
    "    arcos = set()\n",
    "    \n",
    "    for nodo in grafo.values():\n",
    "        G.add_node(nodo._id,pos = nodo.posicion)\n",
    "        posiciones[nodo._id] = nodo.posicion\n",
    "        for vecino in nodo.vecinos:\n",
    "            if (nodo._id, vecino._id) not in arcos and (vecino._id, nodo._id) not in arcos:\n",
    "                G.add_edge(nodo._id, vecino._id) #cola, cabeza\n",
    "    nx.draw(G, pos=posiciones, with_labels=True, font_size=tamaño_fuente, node_size=tamaño_nodo, node_color=\"lightblue\")\n",
    "    plt.show()"
   ]
  },
  {
   "cell_type": "code",
   "execution_count": 7,
   "metadata": {},
   "outputs": [
    {
     "name": "stderr",
     "output_type": "stream",
     "text": [
      "c:\\users\\pcseisdedos\\my_python\\lib\\site-packages\\networkx\\drawing\\nx_pylab.py:579: MatplotlibDeprecationWarning: \n",
      "The iterable function was deprecated in Matplotlib 3.1 and will be removed in 3.3. Use np.iterable instead.\n",
      "  if not cb.iterable(width):\n",
      "c:\\users\\pcseisdedos\\my_python\\lib\\site-packages\\networkx\\drawing\\nx_pylab.py:676: MatplotlibDeprecationWarning: \n",
      "The iterable function was deprecated in Matplotlib 3.1 and will be removed in 3.3. Use np.iterable instead.\n",
      "  if cb.iterable(node_size):  # many node sizes\n"
     ]
    },
    {
     "data": {
      "image/png": "[encoded data removed]",
      "text/plain": [
       "<Figure size 432x288 with 1 Axes>"
      ]
     },
     "metadata": {},
     "output_type": "display_data"
    }
   ],
   "source": [
    "graficar(grafo,15,700)"
   ]
  },
  {
   "cell_type": "markdown",
   "metadata": {},
   "source": [
    "## Graficar el árbol"
   ]
  },
  {
   "cell_type": "markdown",
   "metadata": {},
   "source": [
    "ESTO ES UNA VERSION SIMPLIFICADA, NO ES LO QUE SE ESPERA QUE HAGAN."
   ]
  },
  {
   "cell_type": "code",
   "execution_count": 8,
   "metadata": {},
   "outputs": [],
   "source": [
    "def graficar_arbol():\n",
    "    G = nx.DiGraph()\n",
    "    posiciones = {\"Francisco\": (3,7),\"Felipe\": (3,3),\"Pablo\": (1,1),\"Cristobal\":(5,1)}\n",
    "    nodos = {\"Francisco\": (\"Felipe\",),\"Felipe\": (\"Pablo\",\"Cristobal\")}\n",
    "    \n",
    "    for nodo in nodos.keys():\n",
    "        G.add_node(nodo,pos = posiciones[nodo]) #pos = nodo.posicion\n",
    "        for vecino in nodos[nodo]:\n",
    "            G.add_edge(nodo, vecino) #cola, cabeza\n",
    "    nx.draw(G,pos = posiciones, with_labels=True, font_size=11, node_size=2500,node_color = \"lightblue\")\n",
    "    plt.show()"
   ]
  },
  {
   "cell_type": "code",
   "execution_count": 9,
   "metadata": {},
   "outputs": [
    {
     "data": {
      "image/png": "[encoded data removed]",
      "text/plain": [
       "<Figure size 432x288 with 1 Axes>"
      ]
     },
     "metadata": {},
     "output_type": "display_data"
    }
   ],
   "source": [
    "graficar_arbol()"
   ]
  },
  {
   "cell_type": "code",
   "execution_count": 10,
   "metadata": {},
   "outputs": [],
   "source": [
    "def graficar_arbol():\n",
    "    G = nx.DiGraph()\n",
    "    posiciones = {\"Francisco\": (3,7),\"Felipe\": (3,3),\"Pablo\": (1,1),\"Cristobal\":(5,1)}\n",
    "    nodos = {\"Francisco\": (\"Felipe\",),\"Felipe\": (\"Pablo\",\"Cristobal\")}\n",
    "    enfermo, sano = \"r\", \"b\"\n",
    "    colores = {\"Francisco\": sano,\"Felipe\": enfermo,\"Pablo\": enfermo, \"Cristobal\":sano}\n",
    "    enfermos = [\"Felipe\", \"Pablo\"]\n",
    "    sanos = [\"Francisco\", \"Cristobal\"]\n",
    "    \n",
    "    for nodo in nodos.keys():\n",
    "        G.add_node(nodo,pos = posiciones[nodo], node_color = colores[nodo]) #pos = nodo.posicion\n",
    "        for vecino in nodos[nodo]:\n",
    "            G.add_edge(nodo, vecino) #cola, cabeza\n",
    "            \n",
    "    nx.draw_networkx_nodes(G, posiciones, nodelist = enfermos, node_color = enfermo, node_size=2500, alpha=0.8) #rojo\n",
    "    nx.draw_networkx_nodes(G, posiciones, nodelist=sanos, node_color= sano, node_size=2500, alpha=0.8) #azul\n",
    "    nx.draw_networkx_edges(G, posiciones, width=1.0, alpha=0.5)\n",
    "    #nx.draw(G,pos = posiciones, with_labels=True, font_size=11, node_size=2500)\n",
    "    labels = {}\n",
    "    labels[\"Francisco\"] = \"Francisco\"#cursivas\n",
    "    labels[\"Felipe\"] = \"Felipe\"\n",
    "    labels[\"Pablo\"] = \"Pablo\"\n",
    "    labels[\"Cristobal\"] = \"Cristobal\"\n",
    "    nx.draw_networkx_labels(G, posiciones, labels, font_size=11)\n",
    "    plt.axis('off')\n",
    "    plt.show()"
   ]
  },
  {
   "cell_type": "code",
   "execution_count": 11,
   "metadata": {},
   "outputs": [
    {
     "data": {
      "image/png": "[encoded data removed]",
      "text/plain": [
       "<Figure size 432x288 with 1 Axes>"
      ]
     },
     "metadata": {},
     "output_type": "display_data"
    }
   ],
   "source": [
    "graficar_arbol()"
   ]
  },
  {
   "cell_type": "markdown",
   "metadata": {},
   "source": [
    "Se espera una representación como la anterior en donde se identifiquen los niveles, las relaciones y los contagiados en formato png o pdf."
   ]
  }
 ],
 "metadata": {
  "kernelspec": {
   "display_name": "Python 3",
   "language": "python",
   "name": "python3"
  },
  "language_info": {
   "codemirror_mode": {
    "name": "ipython",
    "version": 3
   },
   "file_extension": ".py",
   "mimetype": "text/x-python",
   "name": "python",
   "nbconvert_exporter": "python",
   "pygments_lexer": "ipython3",
   "version": "3.7.4"
  }
 },
 "nbformat": 4,
 "nbformat_minor": 2
}

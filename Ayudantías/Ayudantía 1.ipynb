{
 "cells": [
  {
   "cell_type": "markdown",
   "metadata": {},
   "source": [
    "# [IIC2115] Ayudantía 1: POO, manejo de strings\n",
    "- Programación como Herramienta para la Ingeniería, 2019-2\n",
    "- Profesor: Francisco Garrido (fgv@ing.puc.cl)\n",
    "- Ayudantes:\n",
    "    - José Manuel Casanova (jlcasanova@uc.cl)\n",
    "    - Cristobal Franke (cmfrancke@uc.cl)\n",
    "    - Felipe Gómez (fagomez2@uc.cl)\n",
    "    - Andrés Jahr (asjahr@uc.cl)\n",
    "    - Pablo Seisdedos(pcseisdedos@uc.cl)\n",
    "- Correo oficial del curso:  iic2115@ing.puc.cl"
   ]
  },
  {
   "cell_type": "markdown",
   "metadata": {},
   "source": [
    "## 1. Métodos básicos de strings\n",
    "Existen varios métodos básicos sobre strings en Python que no necesitan de alguna librería externa. A continuación, se presentan algunos ejemplos y para qué podrían servir."
   ]
  },
  {
   "cell_type": "code",
   "execution_count": 1,
   "metadata": {},
   "outputs": [
    {
     "name": "stdout",
     "output_type": "stream",
     "text": [
      "Lower:  algo2313\n",
      "Upper:  ALGO2313\n",
      "Capitalize:  Algo2313\n",
      "isalpha:  False\n",
      "isdigit:  False\n",
      "isalnum:  True\n"
     ]
    }
   ],
   "source": [
    "var = 'aLgO2313'\n",
    "print('Lower: ', var.lower())  # Pasa a minúsculas\n",
    "print('Upper: ', var.upper())  # Pasa a mayúsculas\n",
    "print('Capitalize: ', var.capitalize())  # Pasa a primera letra mayúscula y el resto minúscula\n",
    "print('isalpha: ', var.isalpha())  # True si todo el string pertenece al abecedario, False en caso contrario\n",
    "print('isdigit: ', var.isdigit())  # False si todo el string es numérico, falso en caso contrario\n",
    "print('isalnum: ', var.isalnum())  # True si es alfanumérico, False en otro caso"
   ]
  },
  {
   "cell_type": "markdown",
   "metadata": {},
   "source": [
    "Más información de este tema: \n",
    "- https://uniwebsidad.com/libros/python/capitulo-6/metodos-de-formato\n",
    "- https://www.tutorialspoint.com/python/python_strings.htm\n",
    "\n",
    "## 2. Manejo de inputs\n",
    "En ocasiones, necesitamos verificar que el input ingresado por el usuario cumple con nuestras espectativas antes de continuar con el resto del programa. Como ejemplo, considérese que se está modelando una variable que almacena la edad de una persona. Se pide que la edad sea un número entero positivo. \n",
    "\n",
    "La manera más intuitiva de hacer esto es convertir la entrada a `int`."
   ]
  },
  {
   "cell_type": "code",
   "execution_count": 2,
   "metadata": {},
   "outputs": [
    {
     "name": "stdout",
     "output_type": "stream",
     "text": [
      "Ingrese edad: 25\n"
     ]
    }
   ],
   "source": [
    "edad = int(input('Ingrese edad: '))"
   ]
  },
  {
   "cell_type": "markdown",
   "metadata": {},
   "source": [
    "El problema de hacerlo así es que al equivocarse e ingresar un string, el programa se cae."
   ]
  },
  {
   "cell_type": "code",
   "execution_count": 3,
   "metadata": {},
   "outputs": [
    {
     "name": "stdout",
     "output_type": "stream",
     "text": [
      "Ingrese edad: cuarenta y siempre\n"
     ]
    },
    {
     "ename": "ValueError",
     "evalue": "invalid literal for int() with base 10: 'cuarenta y siempre'",
     "output_type": "error",
     "traceback": [
      "\u001b[1;31m---------------------------------------------------------------------------\u001b[0m",
      "\u001b[1;31mValueError\u001b[0m                                Traceback (most recent call last)",
      "\u001b[1;32m<ipython-input-3-6b35c7690204>\u001b[0m in \u001b[0;36m<module>\u001b[1;34m\u001b[0m\n\u001b[1;32m----> 1\u001b[1;33m \u001b[0medad\u001b[0m \u001b[1;33m=\u001b[0m \u001b[0mint\u001b[0m\u001b[1;33m(\u001b[0m\u001b[0minput\u001b[0m\u001b[1;33m(\u001b[0m\u001b[1;34m'Ingrese edad: '\u001b[0m\u001b[1;33m)\u001b[0m\u001b[1;33m)\u001b[0m\u001b[1;33m\u001b[0m\u001b[0m\n\u001b[0m",
      "\u001b[1;31mValueError\u001b[0m: invalid literal for int() with base 10: 'cuarenta y siempre'"
     ]
    }
   ],
   "source": [
    "edad = int(input('Ingrese edad: '))"
   ]
  },
  {
   "cell_type": "markdown",
   "metadata": {},
   "source": [
    "Además, se aceptaría como edad un número negativo, lo que no cumple con las restricciones de nuestro problema."
   ]
  },
  {
   "cell_type": "code",
   "execution_count": 4,
   "metadata": {},
   "outputs": [
    {
     "name": "stdout",
     "output_type": "stream",
     "text": [
      "Ingrese edad: -55\n"
     ]
    }
   ],
   "source": [
    "edad = int(input('Ingrese edad: '))"
   ]
  },
  {
   "cell_type": "markdown",
   "metadata": {},
   "source": [
    "Hay muchas formas de solucionar este problema. A continuación, se proponen dos formas:\n",
    "\n",
    "### 2.1. Primera solución: manejo de inputs mediante métodos de strings\n",
    "Se utilizarán métodos de strings para comprobar que la edad tiene el formato válido y solo después se aplicará la función `int`. De esta manera, solo se romperá el loop cuando el usuario ingrese un número válido"
   ]
  },
  {
   "cell_type": "code",
   "execution_count": 5,
   "metadata": {},
   "outputs": [
    {
     "name": "stdout",
     "output_type": "stream",
     "text": [
      "Ingrese edad: cuarenta\n",
      "[ValueError] No se ingresó un número. Por favor, ingrese una edad válida\n",
      "Ingrese edad: -55\n",
      "[ValueError] No se ingresó un número. Por favor, ingrese una edad válida\n",
      "Ingrese edad: 25\n",
      "Edad:  25\n"
     ]
    }
   ],
   "source": [
    "edad = input('Ingrese edad: ')\n",
    "while not edad.isdigit():  # Si no es dígito, se seguirá pidiendo input indefinidamente\n",
    "    print('[ValueError] No se ingresó un número. Por favor, ingrese una edad válida')\n",
    "    edad = input('Ingrese edad: ')\n",
    "edad = int(edad)  # Una vez que se obtuvo un número, se pasa a entero\n",
    "print('Edad: ', edad)"
   ]
  },
  {
   "cell_type": "markdown",
   "metadata": {},
   "source": [
    "### 2.2. Segunda solución: Uso de ` try`  y `except` \n",
    "Por defecto, el programa se termina en presencia de errores. Este comportamiento es útil, pero en ocasiones puede que sea útil hacer que el programa tenga una respuesta diferente de acuerdo al tipo de error. En el caso de nuestro ejemplo de la edad, se podría asumir que el programa solo va a caerse cuando el usuario escriba una edad inválida, por lo que una opción es pedir un nuevo input cada vez que se produzca un `ValueError`."
   ]
  },
  {
   "cell_type": "code",
   "execution_count": 7,
   "metadata": {},
   "outputs": [
    {
     "name": "stdout",
     "output_type": "stream",
     "text": [
      "Ingrese edad: cuarenta\n",
      "No se ha ingresado un número válido!\n",
      "invalid literal for int() with base 10: 'cuarenta'\n",
      "----------\n",
      "Ingrese edad: -55\n",
      "No se ha ingresado un número válido!\n",
      "Se ha ingresado una edad negativa!\n",
      "----------\n",
      "Ingrese edad: 25\n",
      "Edad aceptada:  25\n",
      "----------\n"
     ]
    }
   ],
   "source": [
    "while True:\n",
    "    try:\n",
    "        edad = int(input('Ingrese edad: '))\n",
    "        if edad < 0:\n",
    "            raise ValueError('Se ha ingresado una edad negativa!')\n",
    "    except ValueError as error:\n",
    "        print('No se ha ingresado un número válido!')\n",
    "        print(error)\n",
    "    else:\n",
    "        print('Edad aceptada: ', edad)\n",
    "        break\n",
    "    finally:\n",
    "        print('-' * 10)"
   ]
  },
  {
   "cell_type": "markdown",
   "metadata": {},
   "source": [
    "Más información de manejo de excepciones:\n",
    "- http://docs.python.org.ar/tutorial/3/errors.html"
   ]
  },
  {
   "cell_type": "markdown",
   "metadata": {},
   "source": [
    "## 3. Método `format`, imprimir objetos con `__str__` y `__repr__` \n",
    "Por defecto, al imprimir en pantalla objetos `Python`, se escribe la dirección de memoria asociada a dicho objeto. Esta información es inútil a la hora de conocer información de la instancia (al menos para el usuario)."
   ]
  },
  {
   "cell_type": "code",
   "execution_count": 8,
   "metadata": {},
   "outputs": [
    {
     "name": "stdout",
     "output_type": "stream",
     "text": [
      "Info de un objeto:  <__main__.Persona1 object at 0x0000023DAA5BB9B0>\n",
      "Info de una lista:  [<__main__.Persona1 object at 0x0000023DAA5BB9B0>, <__main__.Persona1 object at 0x0000023DAA5BB9E8>]\n"
     ]
    }
   ],
   "source": [
    "class Persona1:\n",
    "    def __init__(self, rut, nombre, edad, email):\n",
    "        self.rut = rut\n",
    "        self.nombre = nombre\n",
    "        self.edad = edad\n",
    "        self.email = email\n",
    "    \n",
    "p1 = Persona1(1234567, 'Felipe', 23, 'fagomez2@uc.cl')\n",
    "p2 = Persona1(7654321, 'Javiera', 23, 'j.m.g@stomas.cst')\n",
    "print('Info de un objeto: ', p1)\n",
    "print('Info de una lista: ', [p1, p2])"
   ]
  },
  {
   "cell_type": "markdown",
   "metadata": {},
   "source": [
    "### 3.1. El método `__str__`\n",
    "\n",
    "Para editar este comportamiento y retornar un string útil al usuario, se puede definir el método `__str__`. Está orientado a obtener información \"amigable del objeto\". Sin embargo, este comportamiento no funciona para listas de objetos, como se puede ver en el siguiente ejemplo."
   ]
  },
  {
   "cell_type": "code",
   "execution_count": 10,
   "metadata": {},
   "outputs": [
    {
     "name": "stdout",
     "output_type": "stream",
     "text": [
      "Info de un objeto:  [1234567] Felipe\n",
      "Info de una lista:  [<__main__.Persona2 object at 0x0000023DAA5BBEF0>, <__main__.Persona2 object at 0x0000023DAA5BBF28>]\n"
     ]
    }
   ],
   "source": [
    "class Persona2:\n",
    "    def __init__(self, rut, nombre, edad, email):\n",
    "        self.rut = rut\n",
    "        self.nombre = nombre\n",
    "        self.edad = edad\n",
    "        self.email = email\n",
    "    def __str__(self):\n",
    "        return '[{}] {}'.format(self.rut, self. nombre)\n",
    "    \n",
    "    \n",
    "p1 = Persona2(1234567, 'Felipe', 23, 'fagomez2@uc.cl')\n",
    "p2 = Persona2(7654321, 'Javiera', 23, 'j.m.g@stomas.cst')\n",
    "print('Info de un objeto: ', p1)\n",
    "print('Info de una lista: ', [p1, p2])"
   ]
  },
  {
   "cell_type": "markdown",
   "metadata": {},
   "source": [
    "### 3.2. El método `__repr__`\n",
    "\n",
    "El método `__repr__` es conceptualmente muy similar a `__str__`. La principal diferencia es que se permite la representación de objetos en listas o tuplas. Además, si no se ha definido `__str__` y se intenta imprimir un objeto, se utilizará la definición provista en `__repr__`."
   ]
  },
  {
   "cell_type": "code",
   "execution_count": 12,
   "metadata": {},
   "outputs": [
    {
     "name": "stdout",
     "output_type": "stream",
     "text": [
      "Info de un objeto:  rut=188646417, nombre=Felipe, edad=23, email=fagomez2@uc.cl\n",
      "Info de una lista:  [rut=188646417, nombre=Felipe, edad=23, email=fagomez2@uc.cl, rut=7654321, nombre=Javiera, edad=23, email=j.m.g@stomas.cst]\n"
     ]
    }
   ],
   "source": [
    "class Persona3:\n",
    "    def __init__(self, rut, nombre, edad, email):\n",
    "        self.rut = rut\n",
    "        self.nombre = nombre\n",
    "        self.edad = edad\n",
    "        self.email = email\n",
    "    def __repr__(self):\n",
    "        return 'rut={}, nombre={}, edad={}, email={}'.format(self.rut, self.nombre, self.edad, self.email)\n",
    "    \n",
    "    \n",
    "p1 = Persona3(188646417, 'Felipe', 23, 'fagomez2@uc.cl')\n",
    "p2 = Persona3(7654321, 'Javiera', 23, 'j.m.g@stomas.cst')\n",
    "print('Info de un objeto: ', p1)\n",
    "print('Info de una lista: ', [p1, p2])"
   ]
  },
  {
   "cell_type": "markdown",
   "metadata": {},
   "source": [
    "Se pueden definir ambos en una clase. En este caso, se mezclan los comportamientos: se define una forma de imprimir al llamar directamente al objeto con `print(objeto)` o `str(objeto)` y se define una representación adicional a ser usada cuando el objeto forme parte de otro."
   ]
  },
  {
   "cell_type": "code",
   "execution_count": 13,
   "metadata": {},
   "outputs": [
    {
     "name": "stdout",
     "output_type": "stream",
     "text": [
      "Info de un objeto:  [188646417] Felipe\n",
      "Info de una lista:  [rut=188646417, nombre=Felipe, edad=23, email=fagomez2@uc.cl, rut=7654321, nombre=Javiera, edad=23, email=j.m.g@stomas.cst]\n"
     ]
    }
   ],
   "source": [
    "class Persona4:\n",
    "    def __init__(self, rut, nombre, edad, email):\n",
    "        self.rut = rut\n",
    "        self.nombre = nombre\n",
    "        self.edad = edad\n",
    "        self.email = email\n",
    "    \n",
    "    def __str__(self):\n",
    "        return '[{}] {}'.format(self.rut, self. nombre)\n",
    "    \n",
    "    def __repr__(self):\n",
    "        return 'rut={}, nombre={}, edad={}, email={}'.format(self.rut, self.nombre, self.edad, self.email)\n",
    "    \n",
    "    \n",
    "p1 = Persona4(188646417, 'Felipe', 23, 'fagomez2@uc.cl')\n",
    "p2 = Persona4(7654321, 'Javiera', 23, 'j.m.g@stomas.cst')\n",
    "print('Info de un objeto: ', p1)\n",
    "print('Info de una lista: ', [p1, p2])"
   ]
  },
  {
   "cell_type": "markdown",
   "metadata": {},
   "source": [
    "Se dejan dos enlaces para los que estén interesados en indagar sobre las diferencias entre estos dos métodos:\n",
    "- https://stackoverflow.com/questions/1436703/difference-between-str-and-repr\n",
    "- https://stackoverflow.com/questions/1436703/difference-between-str-and-repr"
   ]
  }
 ],
 "metadata": {
  "kernelspec": {
   "display_name": "Python 3",
   "language": "python",
   "name": "python3"
  },
  "language_info": {
   "codemirror_mode": {
    "name": "ipython",
    "version": 3
   },
   "file_extension": ".py",
   "mimetype": "text/x-python",
   "name": "python",
   "nbconvert_exporter": "python",
   "pygments_lexer": "ipython3",
   "version": "3.7.0"
  }
 },
 "nbformat": 4,
 "nbformat_minor": 2
}
